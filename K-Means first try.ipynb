{
 "cells": [
  {
   "cell_type": "code",
   "execution_count": 1,
   "metadata": {},
   "outputs": [],
   "source": [
    "import numpy as np\n",
    "import pandas as pd\n",
    "import matplotlib.pyplot as plt\n",
    "from sklearn.cluster import KMeans\n",
    "import seaborn as sns\n",
    "sns.set()\n",
    "from sklearn.preprocessing import StandardScaler\n",
    "from sklearn.decomposition import PCA"
   ]
  },
  {
   "cell_type": "code",
   "execution_count": 3,
   "metadata": {
    "scrolled": true
   },
   "outputs": [],
   "source": [
    "data = pd.read_csv('seeds_dataset.txt', header = None, sep='\\t')"
   ]
  },
  {
   "cell_type": "code",
   "execution_count": 4,
   "metadata": {
    "scrolled": false
   },
   "outputs": [
    {
     "data": {
      "text/html": [
       "<div>\n",
       "<style scoped>\n",
       "    .dataframe tbody tr th:only-of-type {\n",
       "        vertical-align: middle;\n",
       "    }\n",
       "\n",
       "    .dataframe tbody tr th {\n",
       "        vertical-align: top;\n",
       "    }\n",
       "\n",
       "    .dataframe thead th {\n",
       "        text-align: right;\n",
       "    }\n",
       "</style>\n",
       "<table border=\"1\" class=\"dataframe\">\n",
       "  <thead>\n",
       "    <tr style=\"text-align: right;\">\n",
       "      <th></th>\n",
       "      <th>0</th>\n",
       "      <th>1</th>\n",
       "      <th>2</th>\n",
       "      <th>3</th>\n",
       "      <th>4</th>\n",
       "      <th>5</th>\n",
       "      <th>6</th>\n",
       "      <th>7</th>\n",
       "    </tr>\n",
       "  </thead>\n",
       "  <tbody>\n",
       "    <tr>\n",
       "      <th>0</th>\n",
       "      <td>15.26</td>\n",
       "      <td>14.84</td>\n",
       "      <td>0.8710</td>\n",
       "      <td>5.763</td>\n",
       "      <td>3.312</td>\n",
       "      <td>2.221</td>\n",
       "      <td>5.220</td>\n",
       "      <td>1</td>\n",
       "    </tr>\n",
       "    <tr>\n",
       "      <th>1</th>\n",
       "      <td>14.88</td>\n",
       "      <td>14.57</td>\n",
       "      <td>0.8811</td>\n",
       "      <td>5.554</td>\n",
       "      <td>3.333</td>\n",
       "      <td>1.018</td>\n",
       "      <td>4.956</td>\n",
       "      <td>1</td>\n",
       "    </tr>\n",
       "    <tr>\n",
       "      <th>2</th>\n",
       "      <td>14.29</td>\n",
       "      <td>14.09</td>\n",
       "      <td>0.9050</td>\n",
       "      <td>5.291</td>\n",
       "      <td>3.337</td>\n",
       "      <td>2.699</td>\n",
       "      <td>4.825</td>\n",
       "      <td>1</td>\n",
       "    </tr>\n",
       "    <tr>\n",
       "      <th>3</th>\n",
       "      <td>13.84</td>\n",
       "      <td>13.94</td>\n",
       "      <td>0.8955</td>\n",
       "      <td>5.324</td>\n",
       "      <td>3.379</td>\n",
       "      <td>2.259</td>\n",
       "      <td>4.805</td>\n",
       "      <td>1</td>\n",
       "    </tr>\n",
       "    <tr>\n",
       "      <th>4</th>\n",
       "      <td>16.14</td>\n",
       "      <td>14.99</td>\n",
       "      <td>0.9034</td>\n",
       "      <td>5.658</td>\n",
       "      <td>3.562</td>\n",
       "      <td>1.355</td>\n",
       "      <td>5.175</td>\n",
       "      <td>1</td>\n",
       "    </tr>\n",
       "    <tr>\n",
       "      <th>...</th>\n",
       "      <td>...</td>\n",
       "      <td>...</td>\n",
       "      <td>...</td>\n",
       "      <td>...</td>\n",
       "      <td>...</td>\n",
       "      <td>...</td>\n",
       "      <td>...</td>\n",
       "      <td>...</td>\n",
       "    </tr>\n",
       "    <tr>\n",
       "      <th>205</th>\n",
       "      <td>12.19</td>\n",
       "      <td>13.20</td>\n",
       "      <td>0.8783</td>\n",
       "      <td>5.137</td>\n",
       "      <td>2.981</td>\n",
       "      <td>3.631</td>\n",
       "      <td>4.870</td>\n",
       "      <td>3</td>\n",
       "    </tr>\n",
       "    <tr>\n",
       "      <th>206</th>\n",
       "      <td>11.23</td>\n",
       "      <td>12.88</td>\n",
       "      <td>0.8511</td>\n",
       "      <td>5.140</td>\n",
       "      <td>2.795</td>\n",
       "      <td>4.325</td>\n",
       "      <td>5.003</td>\n",
       "      <td>3</td>\n",
       "    </tr>\n",
       "    <tr>\n",
       "      <th>207</th>\n",
       "      <td>13.20</td>\n",
       "      <td>13.66</td>\n",
       "      <td>0.8883</td>\n",
       "      <td>5.236</td>\n",
       "      <td>3.232</td>\n",
       "      <td>8.315</td>\n",
       "      <td>5.056</td>\n",
       "      <td>3</td>\n",
       "    </tr>\n",
       "    <tr>\n",
       "      <th>208</th>\n",
       "      <td>11.84</td>\n",
       "      <td>13.21</td>\n",
       "      <td>0.8521</td>\n",
       "      <td>5.175</td>\n",
       "      <td>2.836</td>\n",
       "      <td>3.598</td>\n",
       "      <td>5.044</td>\n",
       "      <td>3</td>\n",
       "    </tr>\n",
       "    <tr>\n",
       "      <th>209</th>\n",
       "      <td>12.30</td>\n",
       "      <td>13.34</td>\n",
       "      <td>0.8684</td>\n",
       "      <td>5.243</td>\n",
       "      <td>2.974</td>\n",
       "      <td>5.637</td>\n",
       "      <td>5.063</td>\n",
       "      <td>3</td>\n",
       "    </tr>\n",
       "  </tbody>\n",
       "</table>\n",
       "<p>210 rows × 8 columns</p>\n",
       "</div>"
      ],
      "text/plain": [
       "         0      1       2      3      4      5      6  7\n",
       "0    15.26  14.84  0.8710  5.763  3.312  2.221  5.220  1\n",
       "1    14.88  14.57  0.8811  5.554  3.333  1.018  4.956  1\n",
       "2    14.29  14.09  0.9050  5.291  3.337  2.699  4.825  1\n",
       "3    13.84  13.94  0.8955  5.324  3.379  2.259  4.805  1\n",
       "4    16.14  14.99  0.9034  5.658  3.562  1.355  5.175  1\n",
       "..     ...    ...     ...    ...    ...    ...    ... ..\n",
       "205  12.19  13.20  0.8783  5.137  2.981  3.631  4.870  3\n",
       "206  11.23  12.88  0.8511  5.140  2.795  4.325  5.003  3\n",
       "207  13.20  13.66  0.8883  5.236  3.232  8.315  5.056  3\n",
       "208  11.84  13.21  0.8521  5.175  2.836  3.598  5.044  3\n",
       "209  12.30  13.34  0.8684  5.243  2.974  5.637  5.063  3\n",
       "\n",
       "[210 rows x 8 columns]"
      ]
     },
     "execution_count": 4,
     "metadata": {},
     "output_type": "execute_result"
    }
   ],
   "source": [
    "data"
   ]
  },
  {
   "cell_type": "code",
   "execution_count": 5,
   "metadata": {},
   "outputs": [],
   "source": [
    "data[[7]] = data[[7]].add(-1)"
   ]
  },
  {
   "cell_type": "code",
   "execution_count": 6,
   "metadata": {},
   "outputs": [],
   "source": [
    "X = data[[0, 1, 2, 3, 4, 5, 6]]\n",
    "y = data[[7]]"
   ]
  },
  {
   "cell_type": "markdown",
   "metadata": {},
   "source": [
    "# Preprocessing"
   ]
  },
  {
   "cell_type": "code",
   "execution_count": 7,
   "metadata": {},
   "outputs": [],
   "source": [
    "scaler = StandardScaler()\n",
    "segmentation_std = scaler.fit_transform(X)"
   ]
  },
  {
   "cell_type": "code",
   "execution_count": 8,
   "metadata": {},
   "outputs": [
    {
     "data": {
      "text/plain": [
       "PCA()"
      ]
     },
     "execution_count": 8,
     "metadata": {},
     "output_type": "execute_result"
    }
   ],
   "source": [
    "pca = PCA()\n",
    "pca.fit(segmentation_std)"
   ]
  },
  {
   "cell_type": "code",
   "execution_count": 9,
   "metadata": {},
   "outputs": [
    {
     "data": {
      "text/plain": [
       "array([7.18743027e-01, 1.71081835e-01, 9.68576341e-02, 9.76635386e-03,\n",
       "       2.67337271e-03, 7.61720812e-04, 1.16056686e-04])"
      ]
     },
     "execution_count": 9,
     "metadata": {},
     "output_type": "execute_result"
    }
   ],
   "source": [
    "pca.explained_variance_ratio_"
   ]
  },
  {
   "cell_type": "code",
   "execution_count": 10,
   "metadata": {},
   "outputs": [
    {
     "data": {
      "text/plain": [
       "Text(0, 0.5, 'Cumulative Explained Variance')"
      ]
     },
     "execution_count": 10,
     "metadata": {},
     "output_type": "execute_result"
    },
    {
     "data": {
      "image/png": "[encoded data removed]",
      "text/plain": [
       "<Figure size 720x576 with 1 Axes>"
      ]
     },
     "metadata": {},
     "output_type": "display_data"
    }
   ],
   "source": [
    "plt.figure(figsize = (10,8))\n",
    "plt.plot(range(1,8), pca.explained_variance_ratio_.cumsum(), marker = 'o', linestyle = '--')\n",
    "plt.title('Explained Variance by Components')\n",
    "plt.xlabel('Number of Components')\n",
    "plt.ylabel('Cumulative Explained Variance')"
   ]
  },
  {
   "cell_type": "code",
   "execution_count": 11,
   "metadata": {},
   "outputs": [],
   "source": [
    "pca = PCA(n_components = 3)"
   ]
  },
  {
   "cell_type": "code",
   "execution_count": 12,
   "metadata": {},
   "outputs": [
    {
     "data": {
      "text/plain": [
       "PCA(n_components=3)"
      ]
     },
     "execution_count": 12,
     "metadata": {},
     "output_type": "execute_result"
    }
   ],
   "source": [
    "pca.fit(segmentation_std)"
   ]
  },
  {
   "cell_type": "code",
   "execution_count": 13,
   "metadata": {},
   "outputs": [
    {
     "data": {
      "text/plain": [
       "array([[ 3.17047052e-01,  7.83669015e-01, -6.31010011e-01],\n",
       "       [-3.38617773e-03,  1.91321367e+00, -6.69754458e-01],\n",
       "       [-4.59443341e-01,  1.90722525e+00,  9.32488818e-01],\n",
       "       [-5.91935651e-01,  1.93106922e+00,  4.99310922e-01],\n",
       "       [ 1.10291005e+00,  2.06809003e+00,  5.67054118e-02],\n",
       "       [-3.36815150e-01,  1.63691626e+00,  4.38913151e-01],\n",
       "       [-1.45602498e-01,  4.36414570e-01,  3.01945052e-01],\n",
       "       [-4.25439933e-01,  1.39015330e+00,  4.01288373e-01],\n",
       "       [ 1.76718434e+00,  3.07528830e-01, -9.68165725e-01],\n",
       "       [ 1.44119415e+00,  1.01106830e+00, -3.83042144e-01],\n",
       "       [ 6.71107449e-02, -4.29312461e-01,  3.25292810e-01],\n",
       "       [-5.72683493e-01,  1.55824408e+00, -4.21773063e-01],\n",
       "       [-9.31414541e-01,  8.73925640e-01,  9.48782466e-01],\n",
       "       [-9.14882766e-01,  8.71940034e-01,  1.35349927e-01],\n",
       "       [-1.00836149e+00,  9.58530316e-01, -2.09395370e-03],\n",
       "       [-5.15522337e-01,  1.05872649e+00,  1.43548717e+00],\n",
       "       [-7.84530515e-01,  1.14197655e+00,  2.57348810e+00],\n",
       "       [ 6.79029059e-01,  2.17036180e+00,  3.29858004e-01],\n",
       "       [-2.34416607e-01,  2.78779387e+00,  9.75677530e-01],\n",
       "       [-1.73767215e+00,  3.40140568e-01,  4.32500369e-01],\n",
       "       [-5.61482567e-01,  1.58659628e-01, -6.07274422e-01],\n",
       "       [-4.77524312e-01,  7.04746626e-01, -3.36818076e-01],\n",
       "       [ 8.57383186e-01,  2.32117455e+00, -3.07365386e-01],\n",
       "       [-1.97851961e+00,  1.59076489e+00, -8.58143003e-01],\n",
       "       [-1.57527098e-03,  1.01326624e+00, -9.21350974e-01],\n",
       "       [ 1.09652119e+00,  1.63066030e+00, -8.72074754e-01],\n",
       "       [-1.55728246e+00,  5.55134014e-01, -7.94026592e-02],\n",
       "       [-1.69804238e+00,  7.50450169e-01, -7.36527493e-01],\n",
       "       [-4.56618638e-01,  1.04421405e+00,  5.78795041e-02],\n",
       "       [-1.08377612e+00,  1.22309883e-01, -2.69027996e-01],\n",
       "       [-1.11122927e+00,  1.57950837e+00, -1.32380971e+00],\n",
       "       [ 3.76702505e-01,  2.52240590e-01, -2.33362549e-02],\n",
       "       [-4.81412775e-01, -4.74555191e-01, -4.20314884e-01],\n",
       "       [-6.04218625e-01,  1.11850647e+00, -5.24866670e-01],\n",
       "       [ 3.99081720e-01,  9.15781784e-01, -5.10330623e-01],\n",
       "       [ 1.16292585e+00,  1.30021914e+00,  1.94152557e-01],\n",
       "       [ 1.06466488e+00,  2.95039964e-01, -3.82361890e-01],\n",
       "       [ 1.85493815e+00,  1.08886280e+00,  7.43954599e-01],\n",
       "       [ 1.40615428e-01,  6.10291735e-01,  8.37474024e-02],\n",
       "       [-6.78081880e-01, -4.37680711e-01,  2.30128307e+00],\n",
       "       [-7.31656556e-01,  1.22711021e+00,  1.22633852e-01],\n",
       "       [-7.29770424e-01,  1.34712673e+00, -8.10106774e-02],\n",
       "       [-1.18083239e+00,  2.03558956e+00,  7.43413171e-01],\n",
       "       [ 7.41739812e-01, -4.26997384e-01,  6.51292969e-01],\n",
       "       [ 4.09355867e-01,  1.15341344e+00,  7.21402118e-01],\n",
       "       [-7.82334374e-01,  1.68405040e+00, -4.74034025e-01],\n",
       "       [ 5.14406927e-01,  1.65669157e+00, -4.95315267e-01],\n",
       "       [ 1.79966477e-01,  9.84981534e-01,  3.24927263e-01],\n",
       "       [-9.25997716e-02,  1.00137558e+00,  2.94541533e-02],\n",
       "       [ 1.25468050e-01,  6.88048942e-01, -8.06692825e-01],\n",
       "       [-3.26313626e-01,  2.02406202e-01,  3.81405532e-01],\n",
       "       [ 3.92392314e-01, -2.15180950e-01,  1.61633644e+00],\n",
       "       [-3.66484430e-01, -6.60878719e-01, -3.96401080e-01],\n",
       "       [-3.35388472e-01,  6.53453213e-01,  2.68614319e-01],\n",
       "       [-3.76744247e-02,  5.59364738e-01, -1.59076983e+00],\n",
       "       [ 2.19397132e-01,  6.40187654e-01, -1.02296521e+00],\n",
       "       [-3.14249159e-01,  1.11761141e+00,  2.29940763e-01],\n",
       "       [ 2.06695259e-01,  2.30246953e+00, -1.66120574e-02],\n",
       "       [ 5.29706106e-01,  1.30182191e+00, -2.25607893e-01],\n",
       "       [-2.40035654e+00,  1.26466877e+00, -1.33684772e+00],\n",
       "       [-2.74984930e+00,  1.33727587e+00, -6.55112697e-02],\n",
       "       [-2.63075608e+00,  1.89677793e+00,  1.93087024e-01],\n",
       "       [-1.96906304e+00,  1.62691534e+00,  8.82953634e-01],\n",
       "       [-1.25753988e+00,  7.22933991e-02,  2.88589681e-01],\n",
       "       [-1.55784828e+00,  1.88300511e+00, -7.85226845e-01],\n",
       "       [-1.61699937e+00,  1.91119270e+00,  3.75766546e-01],\n",
       "       [-2.15324906e-01,  1.37031647e+00, -9.62016005e-01],\n",
       "       [-5.54284777e-01,  7.33452198e-01, -8.22019555e-01],\n",
       "       [-1.98411141e-01,  1.19815842e+00, -9.51715917e-01],\n",
       "       [-1.79081064e+00, -1.67506061e-01, -6.94332397e-01],\n",
       "       [ 2.23549062e+00, -1.04968576e+00, -3.49307311e-01],\n",
       "       [ 1.48540908e+00, -1.21411066e+00, -7.62048636e-02],\n",
       "       [ 1.78461274e+00, -7.33018879e-01,  3.47446119e-01],\n",
       "       [ 3.53006550e+00,  4.96300699e-01,  4.45893272e-01],\n",
       "       [ 1.66484026e+00, -4.97570006e-01,  7.01514723e-02],\n",
       "       [ 1.27036103e+00, -1.21174489e+00,  1.19903606e-01],\n",
       "       [ 1.68512630e+00, -9.71590520e-01, -6.30376923e-01],\n",
       "       [ 4.17800860e+00, -1.53892056e+00, -1.80191877e-01],\n",
       "       [ 3.19269939e+00, -1.72044465e+00,  8.35121779e-02],\n",
       "       [ 1.79642560e+00,  4.58433392e-01,  2.44404739e-03],\n",
       "       [ 1.35828426e+00, -1.10089179e+00,  9.06552236e-01],\n",
       "       [ 2.75184742e+00, -6.70144136e-01,  1.36587289e+00],\n",
       "       [ 3.64873121e+00, -1.20775581e+00,  7.92711477e-01],\n",
       "       [ 3.71624680e+00,  1.77572641e-01, -1.32763205e+00],\n",
       "       [ 3.52673767e+00, -4.44748225e-01, -5.85450500e-01],\n",
       "       [ 2.92579832e+00,  9.09007349e-02, -5.61623541e-01],\n",
       "       [ 3.23100945e+00,  8.20227130e-01, -5.13262137e-01],\n",
       "       [ 3.41972134e+00, -1.57821846e+00, -1.06469533e+00],\n",
       "       [ 4.47569737e+00, -1.42993286e+00,  1.25533572e+00],\n",
       "       [ 4.43739394e+00, -9.69682794e-01,  1.04522521e+00],\n",
       "       [ 4.14781960e+00, -3.71485135e-01, -1.36748146e+00],\n",
       "       [ 3.17039145e+00,  1.67812023e-01,  1.95504163e-01],\n",
       "       [ 3.08515045e+00, -1.47951248e-01, -7.06478132e-02],\n",
       "       [ 2.76708163e+00, -7.95684133e-01,  1.90330911e+00],\n",
       "       [ 2.87702824e+00, -2.54022610e+00, -1.01033662e+00],\n",
       "       [ 1.77213232e+00, -8.30529913e-01, -5.70653564e-01],\n",
       "       [ 3.48405128e+00, -6.29085049e-01, -2.60893854e-01],\n",
       "       [ 3.35872196e+00, -5.70642744e-01, -1.50248701e+00],\n",
       "       [ 2.65611588e+00, -7.85296853e-01, -1.16697374e+00],\n",
       "       [ 3.03212692e+00,  1.23565201e-01, -8.04353909e-01],\n",
       "       [ 1.17328244e+00, -7.63107553e-02,  6.51646706e-01],\n",
       "       [ 2.47194639e+00,  9.83513781e-01, -8.01323891e-02],\n",
       "       [ 3.30541011e+00, -3.32400987e-01,  8.31443670e-01],\n",
       "       [ 3.24358647e+00, -8.39178307e-01, -6.63639338e-01],\n",
       "       [ 3.17302692e+00, -4.35766507e-01, -2.16030686e-01],\n",
       "       [ 2.89949749e+00,  4.75629119e-01, -1.08960282e-01],\n",
       "       [ 3.38892957e+00,  3.62259631e-01,  2.15732028e-01],\n",
       "       [ 2.12903143e+00, -4.21507481e-01, -1.38089448e-02],\n",
       "       [ 4.14857492e+00, -1.10023022e+00, -8.63868452e-01],\n",
       "       [ 2.83063980e+00,  6.55213034e-01, -7.42843944e-01],\n",
       "       [ 2.79399173e+00,  6.78534006e-01, -2.44152402e-01],\n",
       "       [ 3.13278001e+00, -7.34557053e-01, -3.13241189e-01],\n",
       "       [ 3.43469435e+00,  8.81940744e-01, -1.61115000e-02],\n",
       "       [ 2.79339128e+00, -2.21141823e+00,  1.01822590e+00],\n",
       "       [ 4.40090393e+00, -1.26898439e+00,  3.48277436e-01],\n",
       "       [ 3.44952552e+00,  5.17166417e-02, -7.64779132e-01],\n",
       "       [ 2.97504391e+00,  1.15294430e-01,  1.24387934e+00],\n",
       "       [ 3.40323444e+00, -1.75356168e-01, -1.61568953e-01],\n",
       "       [ 3.14059466e+00,  3.45353208e-03,  4.90585011e-01],\n",
       "       [ 3.99181744e+00, -5.86137049e-01, -5.48579835e-01],\n",
       "       [ 3.74965679e+00, -1.53501142e+00,  1.17144084e+00],\n",
       "       [ 2.35064725e+00, -5.22910817e-01, -2.07966160e-01],\n",
       "       [ 7.99216336e-01, -8.68136707e-01, -2.05263006e-01],\n",
       "       [ 2.83238929e+00,  6.55005495e-01,  5.32180655e-01],\n",
       "       [ 6.40351127e-01,  1.36398441e+00,  1.20393982e+00],\n",
       "       [ 3.07242617e+00, -2.09605930e-01,  8.18010269e-01],\n",
       "       [ 2.70301237e+00, -1.24706974e+00, -1.94909967e-01],\n",
       "       [ 2.59524072e+00,  7.89441973e-01, -7.39286129e-02],\n",
       "       [ 3.87379087e+00, -1.46732062e-01, -1.27768080e+00],\n",
       "       [ 1.83620478e+00, -3.97730638e-01,  1.53843291e+00],\n",
       "       [ 2.85910319e+00,  7.52856736e-01,  5.17332753e-01],\n",
       "       [ 3.13040155e+00,  2.67505761e-01,  5.88193823e-02],\n",
       "       [ 6.93173456e-01, -8.13675167e-01,  3.76944121e-02],\n",
       "       [ 1.00950051e+00, -8.36534026e-01, -1.37852540e-01],\n",
       "       [ 9.12856312e-01, -7.42110054e-01,  6.92845227e-01],\n",
       "       [ 5.68936576e-01,  7.75814425e-01,  8.80432882e-01],\n",
       "       [ 2.19529592e+00, -4.24830154e-01, -2.23242569e-01],\n",
       "       [ 7.99149663e-01, -4.55405433e-01, -1.35079174e+00],\n",
       "       [ 7.24306630e-01, -2.19013693e-01, -1.03942063e+00],\n",
       "       [ 1.46538667e+00, -2.13996204e-01,  1.70678327e-01],\n",
       "       [-1.35027740e+00, -1.22421437e+00,  5.44349622e-02],\n",
       "       [-1.09350280e+00, -1.79884796e+00,  1.18786151e+00],\n",
       "       [-1.24605922e+00, -1.11345738e+00,  8.66604673e-01],\n",
       "       [-1.90077852e+00, -6.29451249e-01,  7.87892310e-01],\n",
       "       [-2.46609342e+00, -1.07017952e+00, -8.14718932e-01],\n",
       "       [-2.97143253e+00, -2.18508200e+00, -4.01606483e-01],\n",
       "       [-2.60278034e+00,  2.44803256e-01, -1.60922854e+00],\n",
       "       [-1.85372955e+00,  2.18283191e-02,  4.00065639e-01],\n",
       "       [-1.54356722e+00, -1.30560093e-01, -8.07786371e-01],\n",
       "       [-3.19043461e+00, -1.93260252e+00, -8.82002489e-01],\n",
       "       [-2.19323497e+00, -9.62966052e-01,  1.18537476e-01],\n",
       "       [-2.46649392e+00, -2.45412598e+00,  1.72394454e-01],\n",
       "       [-1.98604045e+00, -1.25734679e+00, -6.25556799e-01],\n",
       "       [-2.93170345e+00, -3.60749949e-01, -1.26722186e+00],\n",
       "       [-2.58611808e+00, -6.06237640e-01, -6.88964165e-01],\n",
       "       [-2.95816928e+00, -1.76367282e+00, -2.98219503e-01],\n",
       "       [-2.55747836e+00,  5.06930003e-01, -2.00882464e-01],\n",
       "       [-2.48852395e+00, -1.77621293e+00, -1.25734965e+00],\n",
       "       [-2.53931671e+00, -1.65660094e+00, -1.55263890e+00],\n",
       "       [-2.66265839e+00, -1.64078819e+00, -5.23265444e-01],\n",
       "       [-1.48138174e+00, -3.64423793e-01, -1.19019892e+00],\n",
       "       [-1.99920677e+00, -5.64433519e-01, -3.43622299e-01],\n",
       "       [-2.37039181e+00, -8.56141339e-01, -7.92757520e-02],\n",
       "       [-1.72282657e+00, -3.73633899e-01,  2.05483822e-02],\n",
       "       [-2.96760486e+00, -1.05761406e+00,  1.04557976e+00],\n",
       "       [-1.82666680e+00,  1.43532582e+00, -1.95081383e-01],\n",
       "       [-1.90640891e+00, -9.18541953e-01, -8.41043966e-02],\n",
       "       [-1.84014311e+00, -4.51453901e-01, -8.24698445e-01],\n",
       "       [-2.89614406e+00, -8.79681035e-01, -7.97742922e-01],\n",
       "       [-2.87234873e+00, -2.39825293e-01, -8.93804121e-01],\n",
       "       [-3.09179735e+00, -2.32702499e+00, -4.73044392e-02],\n",
       "       [-2.81203741e+00, -1.45420148e+00,  9.03085254e-01],\n",
       "       [-2.88603824e+00, -3.96596270e-01, -3.07986290e-01],\n",
       "       [-2.86548980e+00, -1.20575412e+00,  8.81529105e-02],\n",
       "       [-3.21390638e+00, -1.79611034e+00, -1.01263747e+00],\n",
       "       [-2.91551158e+00, -1.85058701e-01,  4.30303944e-01],\n",
       "       [-2.92472945e+00, -1.16595846e+00, -1.33642117e-01],\n",
       "       [-3.29897440e+00, -8.01692215e-01, -4.44761771e-01],\n",
       "       [-2.80331004e+00, -1.07733610e+00,  4.96481403e-01],\n",
       "       [-1.77549982e+00,  6.82411592e-01, -1.56324081e+00],\n",
       "       [-2.87944543e+00, -2.52369051e-01,  4.46654637e-01],\n",
       "       [-1.72142948e+00, -2.19053235e-01,  7.67048032e-01],\n",
       "       [-2.03020745e+00, -4.80079007e-01,  3.00036919e-01],\n",
       "       [-2.45615851e+00, -5.72714504e-01,  4.96731946e-01],\n",
       "       [-1.43029221e+00, -1.43705765e+00,  6.63591711e-01],\n",
       "       [-2.65121221e+00, -1.09214372e+00, -1.28043551e+00],\n",
       "       [-2.41157972e+00, -1.64686890e+00, -9.85090982e-01],\n",
       "       [-3.17954711e+00, -4.19114361e-01, -5.19188094e-01],\n",
       "       [-2.95812987e+00, -1.47970167e+00,  1.67404688e+00],\n",
       "       [-3.27976258e+00,  9.54554960e-02,  8.19346127e-01],\n",
       "       [-3.17351966e+00, -9.97378098e-01,  8.67302277e-02],\n",
       "       [-2.67770368e+00,  9.91153389e-02, -4.33720312e-02],\n",
       "       [-1.91439166e+00,  7.15779252e-01,  4.07383344e-01],\n",
       "       [-3.23131694e+00, -1.16186189e+00, -6.53875928e-01],\n",
       "       [-1.98839224e+00,  1.42258641e-01,  2.38825286e-01],\n",
       "       [-1.59065129e+00,  4.22555325e-01,  1.32774778e+00],\n",
       "       [-1.69370462e+00, -1.24838347e-01,  1.31233050e+00],\n",
       "       [-1.09978315e+00,  2.59573115e-01,  1.04448030e+00],\n",
       "       [-1.62888513e+00, -1.17474710e-01, -7.86959300e-01],\n",
       "       [-1.45963267e+00,  1.75368601e+00,  7.77933257e-01],\n",
       "       [-2.00487210e+00, -5.92070467e-01,  7.62118832e-01],\n",
       "       [-1.61206890e+00,  2.14057739e+00,  6.43676434e-01],\n",
       "       [-2.81495737e+00,  5.13213623e-01,  4.22914488e-01],\n",
       "       [-1.84362278e+00, -1.34137404e+00,  2.92150118e+00],\n",
       "       [-2.00513076e+00,  8.58920142e-02, -4.53430544e-02],\n",
       "       [-1.99110719e+00,  8.65955555e-01,  5.13302614e-01],\n",
       "       [-2.72686452e+00, -2.08189724e-01, -5.90586826e-02],\n",
       "       [-1.40363281e+00, -1.29859258e+00,  2.90581137e+00],\n",
       "       [-2.33932776e+00,  9.96986962e-02, -3.82515114e-01],\n",
       "       [-1.95595293e+00, -5.25071183e-01,  1.01311340e+00]])"
      ]
     },
     "execution_count": 13,
     "metadata": {},
     "output_type": "execute_result"
    }
   ],
   "source": [
    "pca.transform(segmentation_std)"
   ]
  },
  {
   "cell_type": "code",
   "execution_count": 14,
   "metadata": {},
   "outputs": [],
   "source": [
    "scores_pca = pca.transform(segmentation_std)"
   ]
  },
  {
   "cell_type": "markdown",
   "metadata": {},
   "source": [
    "## K-Means PCA"
   ]
  },
  {
   "cell_type": "code",
   "execution_count": 15,
   "metadata": {
    "scrolled": true
   },
   "outputs": [
    {
     "data": {
      "text/plain": [
       "KMeans(n_clusters=3, random_state=42)"
      ]
     },
     "execution_count": 15,
     "metadata": {},
     "output_type": "execute_result"
    }
   ],
   "source": [
    "kmeans_pca = KMeans(n_clusters = 3, init = 'k-means++', random_state = 42)\n",
    "kmeans_pca.fit(scores_pca)"
   ]
  },
  {
   "cell_type": "code",
   "execution_count": 27,
   "metadata": {
    "scrolled": true
   },
   "outputs": [],
   "source": [
    "df_segm_pca_kmeans = pd.concat([X.reset_index(drop = True), pd.DataFrame(scores_pca)], axis = 1)\n",
    "df_segm_pca_kmeans.columns.values[-3: ] = [101, 102, 103]\n",
    "df_segm_pca_kmeans['Segment K-means PCA'] = kmeans_pca.labels_"
   ]
  },
  {
   "cell_type": "code",
   "execution_count": 28,
   "metadata": {
    "scrolled": true
   },
   "outputs": [
    {
     "data": {
      "text/html": [
       "<div>\n",
       "<style scoped>\n",
       "    .dataframe tbody tr th:only-of-type {\n",
       "        vertical-align: middle;\n",
       "    }\n",
       "\n",
       "    .dataframe tbody tr th {\n",
       "        vertical-align: top;\n",
       "    }\n",
       "\n",
       "    .dataframe thead th {\n",
       "        text-align: right;\n",
       "    }\n",
       "</style>\n",
       "<table border=\"1\" class=\"dataframe\">\n",
       "  <thead>\n",
       "    <tr style=\"text-align: right;\">\n",
       "      <th></th>\n",
       "      <th>0</th>\n",
       "      <th>1</th>\n",
       "      <th>2</th>\n",
       "      <th>3</th>\n",
       "      <th>4</th>\n",
       "      <th>5</th>\n",
       "      <th>6</th>\n",
       "      <th>101</th>\n",
       "      <th>102</th>\n",
       "      <th>103</th>\n",
       "      <th>Segment K-means PCA</th>\n",
       "    </tr>\n",
       "  </thead>\n",
       "  <tbody>\n",
       "    <tr>\n",
       "      <th>0</th>\n",
       "      <td>15.26</td>\n",
       "      <td>14.84</td>\n",
       "      <td>0.8710</td>\n",
       "      <td>5.763</td>\n",
       "      <td>3.312</td>\n",
       "      <td>2.221</td>\n",
       "      <td>5.220</td>\n",
       "      <td>0.317047</td>\n",
       "      <td>0.783669</td>\n",
       "      <td>-0.631010</td>\n",
       "      <td>2</td>\n",
       "    </tr>\n",
       "    <tr>\n",
       "      <th>1</th>\n",
       "      <td>14.88</td>\n",
       "      <td>14.57</td>\n",
       "      <td>0.8811</td>\n",
       "      <td>5.554</td>\n",
       "      <td>3.333</td>\n",
       "      <td>1.018</td>\n",
       "      <td>4.956</td>\n",
       "      <td>-0.003386</td>\n",
       "      <td>1.913214</td>\n",
       "      <td>-0.669754</td>\n",
       "      <td>2</td>\n",
       "    </tr>\n",
       "    <tr>\n",
       "      <th>2</th>\n",
       "      <td>14.29</td>\n",
       "      <td>14.09</td>\n",
       "      <td>0.9050</td>\n",
       "      <td>5.291</td>\n",
       "      <td>3.337</td>\n",
       "      <td>2.699</td>\n",
       "      <td>4.825</td>\n",
       "      <td>-0.459443</td>\n",
       "      <td>1.907225</td>\n",
       "      <td>0.932489</td>\n",
       "      <td>2</td>\n",
       "    </tr>\n",
       "    <tr>\n",
       "      <th>3</th>\n",
       "      <td>13.84</td>\n",
       "      <td>13.94</td>\n",
       "      <td>0.8955</td>\n",
       "      <td>5.324</td>\n",
       "      <td>3.379</td>\n",
       "      <td>2.259</td>\n",
       "      <td>4.805</td>\n",
       "      <td>-0.591936</td>\n",
       "      <td>1.931069</td>\n",
       "      <td>0.499311</td>\n",
       "      <td>2</td>\n",
       "    </tr>\n",
       "    <tr>\n",
       "      <th>4</th>\n",
       "      <td>16.14</td>\n",
       "      <td>14.99</td>\n",
       "      <td>0.9034</td>\n",
       "      <td>5.658</td>\n",
       "      <td>3.562</td>\n",
       "      <td>1.355</td>\n",
       "      <td>5.175</td>\n",
       "      <td>1.102910</td>\n",
       "      <td>2.068090</td>\n",
       "      <td>0.056705</td>\n",
       "      <td>2</td>\n",
       "    </tr>\n",
       "    <tr>\n",
       "      <th>...</th>\n",
       "      <td>...</td>\n",
       "      <td>...</td>\n",
       "      <td>...</td>\n",
       "      <td>...</td>\n",
       "      <td>...</td>\n",
       "      <td>...</td>\n",
       "      <td>...</td>\n",
       "      <td>...</td>\n",
       "      <td>...</td>\n",
       "      <td>...</td>\n",
       "      <td>...</td>\n",
       "    </tr>\n",
       "    <tr>\n",
       "      <th>205</th>\n",
       "      <td>12.19</td>\n",
       "      <td>13.20</td>\n",
       "      <td>0.8783</td>\n",
       "      <td>5.137</td>\n",
       "      <td>2.981</td>\n",
       "      <td>3.631</td>\n",
       "      <td>4.870</td>\n",
       "      <td>-1.991107</td>\n",
       "      <td>0.865956</td>\n",
       "      <td>0.513303</td>\n",
       "      <td>1</td>\n",
       "    </tr>\n",
       "    <tr>\n",
       "      <th>206</th>\n",
       "      <td>11.23</td>\n",
       "      <td>12.88</td>\n",
       "      <td>0.8511</td>\n",
       "      <td>5.140</td>\n",
       "      <td>2.795</td>\n",
       "      <td>4.325</td>\n",
       "      <td>5.003</td>\n",
       "      <td>-2.726865</td>\n",
       "      <td>-0.208190</td>\n",
       "      <td>-0.059059</td>\n",
       "      <td>1</td>\n",
       "    </tr>\n",
       "    <tr>\n",
       "      <th>207</th>\n",
       "      <td>13.20</td>\n",
       "      <td>13.66</td>\n",
       "      <td>0.8883</td>\n",
       "      <td>5.236</td>\n",
       "      <td>3.232</td>\n",
       "      <td>8.315</td>\n",
       "      <td>5.056</td>\n",
       "      <td>-1.403633</td>\n",
       "      <td>-1.298593</td>\n",
       "      <td>2.905811</td>\n",
       "      <td>1</td>\n",
       "    </tr>\n",
       "    <tr>\n",
       "      <th>208</th>\n",
       "      <td>11.84</td>\n",
       "      <td>13.21</td>\n",
       "      <td>0.8521</td>\n",
       "      <td>5.175</td>\n",
       "      <td>2.836</td>\n",
       "      <td>3.598</td>\n",
       "      <td>5.044</td>\n",
       "      <td>-2.339328</td>\n",
       "      <td>0.099699</td>\n",
       "      <td>-0.382515</td>\n",
       "      <td>1</td>\n",
       "    </tr>\n",
       "    <tr>\n",
       "      <th>209</th>\n",
       "      <td>12.30</td>\n",
       "      <td>13.34</td>\n",
       "      <td>0.8684</td>\n",
       "      <td>5.243</td>\n",
       "      <td>2.974</td>\n",
       "      <td>5.637</td>\n",
       "      <td>5.063</td>\n",
       "      <td>-1.955953</td>\n",
       "      <td>-0.525071</td>\n",
       "      <td>1.013113</td>\n",
       "      <td>1</td>\n",
       "    </tr>\n",
       "  </tbody>\n",
       "</table>\n",
       "<p>210 rows × 11 columns</p>\n",
       "</div>"
      ],
      "text/plain": [
       "         0      1       2      3      4      5      6       101       102  \\\n",
       "0    15.26  14.84  0.8710  5.763  3.312  2.221  5.220  0.317047  0.783669   \n",
       "1    14.88  14.57  0.8811  5.554  3.333  1.018  4.956 -0.003386  1.913214   \n",
       "2    14.29  14.09  0.9050  5.291  3.337  2.699  4.825 -0.459443  1.907225   \n",
       "3    13.84  13.94  0.8955  5.324  3.379  2.259  4.805 -0.591936  1.931069   \n",
       "4    16.14  14.99  0.9034  5.658  3.562  1.355  5.175  1.102910  2.068090   \n",
       "..     ...    ...     ...    ...    ...    ...    ...       ...       ...   \n",
       "205  12.19  13.20  0.8783  5.137  2.981  3.631  4.870 -1.991107  0.865956   \n",
       "206  11.23  12.88  0.8511  5.140  2.795  4.325  5.003 -2.726865 -0.208190   \n",
       "207  13.20  13.66  0.8883  5.236  3.232  8.315  5.056 -1.403633 -1.298593   \n",
       "208  11.84  13.21  0.8521  5.175  2.836  3.598  5.044 -2.339328  0.099699   \n",
       "209  12.30  13.34  0.8684  5.243  2.974  5.637  5.063 -1.955953 -0.525071   \n",
       "\n",
       "          103  Segment K-means PCA  \n",
       "0   -0.631010                    2  \n",
       "1   -0.669754                    2  \n",
       "2    0.932489                    2  \n",
       "3    0.499311                    2  \n",
       "4    0.056705                    2  \n",
       "..        ...                  ...  \n",
       "205  0.513303                    1  \n",
       "206 -0.059059                    1  \n",
       "207  2.905811                    1  \n",
       "208 -0.382515                    1  \n",
       "209  1.013113                    1  \n",
       "\n",
       "[210 rows x 11 columns]"
      ]
     },
     "execution_count": 28,
     "metadata": {},
     "output_type": "execute_result"
    }
   ],
   "source": [
    "df_segm_pca_kmeans"
   ]
  },
  {
   "cell_type": "code",
   "execution_count": 34,
   "metadata": {
    "scrolled": true
   },
   "outputs": [
    {
     "name": "stderr",
     "output_type": "stream",
     "text": [
      "C:\\Users\\tolga\\anaconda3\\envs\\DataScience\\lib\\site-packages\\seaborn\\_decorators.py:36: FutureWarning: Pass the following variables as keyword args: x, y. From version 0.12, the only valid positional argument will be `data`, and passing other arguments without an explicit keyword will result in an error or misinterpretation.\n",
      "  warnings.warn(\n"
     ]
    },
    {
     "data": {
      "image/png": "[encoded data removed]",
      "text/plain": [
       "<Figure size 720x576 with 1 Axes>"
      ]
     },
     "metadata": {},
     "output_type": "display_data"
    }
   ],
   "source": [
    "x_axis = df_segm_pca_kmeans[101]\n",
    "y_axis = df_segm_pca_kmeans[102]\n",
    "plt.figure(figsize = (10, 8))\n",
    "sns.scatterplot(x_axis, y_axis, hue = df_segm_pca_kmeans['Segment K-means PCA'], palette = ['g', 'r', 'c'])\n",
    "plt.title('Clusters by PCA Components')\n",
    "plt.show()"
   ]
  },
  {
   "cell_type": "code",
   "execution_count": 35,
   "metadata": {},
   "outputs": [
    {
     "name": "stderr",
     "output_type": "stream",
     "text": [
      "C:\\Users\\tolga\\anaconda3\\envs\\DataScience\\lib\\site-packages\\seaborn\\_decorators.py:36: FutureWarning: Pass the following variables as keyword args: x, y. From version 0.12, the only valid positional argument will be `data`, and passing other arguments without an explicit keyword will result in an error or misinterpretation.\n",
      "  warnings.warn(\n"
     ]
    },
    {
     "data": {
      "image/png": "[encoded data removed]",
      "text/plain": [
       "<Figure size 720x576 with 1 Axes>"
      ]
     },
     "metadata": {},
     "output_type": "display_data"
    }
   ],
   "source": [
    "x_axis = df_segm_pca_kmeans[101]\n",
    "y_axis = df_segm_pca_kmeans[102]\n",
    "plt.figure(figsize = (10, 8))\n",
    "sns.scatterplot(x_axis, y_axis, hue = y[7], palette = ['g', 'r', 'c'])\n",
    "plt.title('Clusters by PCA Components')\n",
    "plt.show()"
   ]
  },
  {
   "cell_type": "markdown",
   "metadata": {},
   "source": [
    "# K-Means"
   ]
  },
  {
   "cell_type": "code",
   "execution_count": 21,
   "metadata": {},
   "outputs": [],
   "source": [
    "kmeans = KMeans(n_clusters=3, random_state=0).fit(X)"
   ]
  },
  {
   "cell_type": "code",
   "execution_count": 22,
   "metadata": {
    "scrolled": true
   },
   "outputs": [
    {
     "data": {
      "text/plain": [
       "array([2, 2, 2, 2, 2, 2, 2, 2, 2, 2, 2, 2, 2, 2, 2, 2, 0, 2, 2, 0, 2, 2,\n",
       "       2, 2, 2, 2, 0, 2, 2, 2, 2, 2, 2, 2, 2, 2, 2, 1, 2, 0, 2, 2, 2, 2,\n",
       "       2, 2, 2, 2, 2, 2, 2, 2, 2, 2, 2, 2, 2, 2, 2, 2, 0, 0, 0, 0, 2, 2,\n",
       "       2, 2, 2, 0, 1, 1, 1, 1, 1, 1, 1, 1, 1, 1, 1, 1, 1, 1, 1, 1, 1, 1,\n",
       "       1, 1, 1, 1, 1, 1, 1, 1, 1, 1, 1, 1, 2, 1, 1, 1, 1, 1, 1, 1, 1, 1,\n",
       "       1, 1, 1, 1, 1, 1, 1, 1, 1, 1, 1, 1, 2, 1, 2, 1, 1, 1, 1, 1, 1, 1,\n",
       "       2, 2, 2, 2, 1, 2, 2, 2, 0, 0, 0, 0, 0, 0, 0, 0, 0, 0, 0, 0, 0, 0,\n",
       "       0, 0, 0, 0, 0, 0, 0, 0, 0, 0, 0, 0, 0, 0, 0, 0, 0, 0, 0, 0, 0, 0,\n",
       "       0, 0, 0, 2, 0, 0, 0, 0, 0, 0, 0, 0, 0, 0, 0, 0, 0, 0, 0, 0, 0, 0,\n",
       "       0, 0, 0, 2, 0, 0, 0, 0, 0, 0, 0, 0])"
      ]
     },
     "execution_count": 22,
     "metadata": {},
     "output_type": "execute_result"
    }
   ],
   "source": [
    "kmeans.labels_"
   ]
  },
  {
   "cell_type": "code",
   "execution_count": 23,
   "metadata": {},
   "outputs": [
    {
     "data": {
      "text/plain": [
       "array([[11.96441558, 13.27480519,  0.8522    ,  5.22928571,  2.87292208,\n",
       "         4.75974026,  5.08851948],\n",
       "       [18.72180328, 16.29737705,  0.88508689,  6.20893443,  3.72267213,\n",
       "         3.60359016,  6.06609836],\n",
       "       [14.64847222, 14.46041667,  0.87916667,  5.56377778,  3.27790278,\n",
       "         2.64893333,  5.19231944]])"
      ]
     },
     "execution_count": 23,
     "metadata": {},
     "output_type": "execute_result"
    }
   ],
   "source": [
    "kmeans.cluster_centers_"
   ]
  },
  {
   "cell_type": "code",
   "execution_count": 24,
   "metadata": {},
   "outputs": [
    {
     "data": {
      "text/html": [
       "<div>\n",
       "<style scoped>\n",
       "    .dataframe tbody tr th:only-of-type {\n",
       "        vertical-align: middle;\n",
       "    }\n",
       "\n",
       "    .dataframe tbody tr th {\n",
       "        vertical-align: top;\n",
       "    }\n",
       "\n",
       "    .dataframe thead th {\n",
       "        text-align: right;\n",
       "    }\n",
       "</style>\n",
       "<table border=\"1\" class=\"dataframe\">\n",
       "  <thead>\n",
       "    <tr style=\"text-align: right;\">\n",
       "      <th>col_0</th>\n",
       "      <th>0</th>\n",
       "      <th>1</th>\n",
       "      <th>2</th>\n",
       "    </tr>\n",
       "    <tr>\n",
       "      <th>7</th>\n",
       "      <th></th>\n",
       "      <th></th>\n",
       "      <th></th>\n",
       "    </tr>\n",
       "  </thead>\n",
       "  <tbody>\n",
       "    <tr>\n",
       "      <th>0</th>\n",
       "      <td>9</td>\n",
       "      <td>1</td>\n",
       "      <td>60</td>\n",
       "    </tr>\n",
       "    <tr>\n",
       "      <th>1</th>\n",
       "      <td>0</td>\n",
       "      <td>60</td>\n",
       "      <td>10</td>\n",
       "    </tr>\n",
       "    <tr>\n",
       "      <th>2</th>\n",
       "      <td>68</td>\n",
       "      <td>0</td>\n",
       "      <td>2</td>\n",
       "    </tr>\n",
       "  </tbody>\n",
       "</table>\n",
       "</div>"
      ],
      "text/plain": [
       "col_0   0   1   2\n",
       "7                \n",
       "0       9   1  60\n",
       "1       0  60  10\n",
       "2      68   0   2"
      ]
     },
     "execution_count": 24,
     "metadata": {},
     "output_type": "execute_result"
    }
   ],
   "source": [
    "pd.crosstab(y[7], kmeans.labels_)"
   ]
  },
  {
   "cell_type": "code",
   "execution_count": 1,
   "metadata": {},
   "outputs": [
    {
     "data": {
      "text/plain": [
       "0.8952380952380953"
      ]
     },
     "execution_count": 1,
     "metadata": {},
     "output_type": "execute_result"
    }
   ],
   "source": [
    "188/210"
   ]
  },
  {
   "cell_type": "code",
   "execution_count": null,
   "metadata": {},
   "outputs": [],
   "source": []
  }
 ],
 "metadata": {
  "kernelspec": {
   "display_name": "Python 3",
   "language": "python",
   "name": "python3"
  },
  "language_info": {
   "codemirror_mode": {
    "name": "ipython",
    "version": 3
   },
   "file_extension": ".py",
   "mimetype": "text/x-python",
   "name": "python",
   "nbconvert_exporter": "python",
   "pygments_lexer": "ipython3",
   "version": "3.8.5"
  }
 },
 "nbformat": 4,
 "nbformat_minor": 4
}
